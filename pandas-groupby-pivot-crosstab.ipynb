{
 "cells": [
  {
   "cell_type": "code",
   "execution_count": 159,
   "metadata": {},
   "outputs": [
    {
     "name": "stdout",
     "output_type": "stream",
     "text": [
      "The memory_profiler extension is already loaded. To reload it, use:\n",
      "  %reload_ext memory_profiler\n"
     ]
    },
    {
     "data": {
      "text/html": [
       "<div>\n",
       "<style scoped>\n",
       "    .dataframe tbody tr th:only-of-type {\n",
       "        vertical-align: middle;\n",
       "    }\n",
       "\n",
       "    .dataframe tbody tr th {\n",
       "        vertical-align: top;\n",
       "    }\n",
       "\n",
       "    .dataframe thead th {\n",
       "        text-align: right;\n",
       "    }\n",
       "</style>\n",
       "<table border=\"1\" class=\"dataframe\">\n",
       "  <thead>\n",
       "    <tr style=\"text-align: right;\">\n",
       "      <th></th>\n",
       "      <th>A</th>\n",
       "      <th>B</th>\n",
       "      <th>C</th>\n",
       "      <th>D</th>\n",
       "      <th>E</th>\n",
       "      <th>F</th>\n",
       "      <th>G</th>\n",
       "      <th>H</th>\n",
       "      <th>I</th>\n",
       "      <th>J</th>\n",
       "    </tr>\n",
       "  </thead>\n",
       "  <tbody>\n",
       "    <tr>\n",
       "      <th>0</th>\n",
       "      <td>52</td>\n",
       "      <td>93</td>\n",
       "      <td>15</td>\n",
       "      <td>72</td>\n",
       "      <td>61</td>\n",
       "      <td>21</td>\n",
       "      <td>83</td>\n",
       "      <td>87</td>\n",
       "      <td>75</td>\n",
       "      <td>75</td>\n",
       "    </tr>\n",
       "    <tr>\n",
       "      <th>1</th>\n",
       "      <td>88</td>\n",
       "      <td>24</td>\n",
       "      <td>3</td>\n",
       "      <td>22</td>\n",
       "      <td>53</td>\n",
       "      <td>2</td>\n",
       "      <td>88</td>\n",
       "      <td>30</td>\n",
       "      <td>38</td>\n",
       "      <td>2</td>\n",
       "    </tr>\n",
       "    <tr>\n",
       "      <th>2</th>\n",
       "      <td>64</td>\n",
       "      <td>60</td>\n",
       "      <td>21</td>\n",
       "      <td>33</td>\n",
       "      <td>76</td>\n",
       "      <td>58</td>\n",
       "      <td>22</td>\n",
       "      <td>89</td>\n",
       "      <td>49</td>\n",
       "      <td>91</td>\n",
       "    </tr>\n",
       "    <tr>\n",
       "      <th>3</th>\n",
       "      <td>59</td>\n",
       "      <td>42</td>\n",
       "      <td>92</td>\n",
       "      <td>60</td>\n",
       "      <td>80</td>\n",
       "      <td>15</td>\n",
       "      <td>62</td>\n",
       "      <td>62</td>\n",
       "      <td>47</td>\n",
       "      <td>62</td>\n",
       "    </tr>\n",
       "    <tr>\n",
       "      <th>4</th>\n",
       "      <td>51</td>\n",
       "      <td>55</td>\n",
       "      <td>64</td>\n",
       "      <td>3</td>\n",
       "      <td>51</td>\n",
       "      <td>7</td>\n",
       "      <td>21</td>\n",
       "      <td>73</td>\n",
       "      <td>39</td>\n",
       "      <td>18</td>\n",
       "    </tr>\n",
       "  </tbody>\n",
       "</table>\n",
       "</div>"
      ],
      "text/plain": [
       "    A   B   C   D   E   F   G   H   I   J\n",
       "0  52  93  15  72  61  21  83  87  75  75\n",
       "1  88  24   3  22  53   2  88  30  38   2\n",
       "2  64  60  21  33  76  58  22  89  49  91\n",
       "3  59  42  92  60  80  15  62  62  47  62\n",
       "4  51  55  64   3  51   7  21  73  39  18"
      ]
     },
     "execution_count": 159,
     "metadata": {},
     "output_type": "execute_result"
    }
   ],
   "source": [
    "%load_ext memory_profiler\n",
    "import cProfile\n",
    "\n",
    "from string import ascii_uppercase\n",
    "\n",
    "import numpy as np\n",
    "import pandas as pd\n",
    "\n",
    "cols = list(ascii_uppercase[:10])\n",
    "np.random.seed(42)\n",
    "\n",
    "\n",
    "def crosstab(df):\n",
    "    '''Returned count values are integers.'''\n",
    "    pd.crosstab(df.A, df.B)\n",
    "\n",
    "\n",
    "def groupby(df):\n",
    "    '''Returned count values are floats.'''\n",
    "    df.groupby(['A', 'B'])['C'].count().unstack().fillna(0)\n",
    "\n",
    "\n",
    "def pivot_table(df):\n",
    "    '''Returned count values are integers.'''\n",
    "    df.pivot_table(values='C', index='A', columns='B', aggfunc='count', fill_value=0)\n",
    "\n",
    "    \n",
    "data = np.random.randint(1, 100, size=(100_000, 10))\n",
    "df = pd.DataFrame(data, columns=cols)\n",
    "df.head()"
   ]
  },
  {
   "cell_type": "code",
   "execution_count": 160,
   "metadata": {},
   "outputs": [
    {
     "name": "stdout",
     "output_type": "stream",
     "text": [
      "81.6 ms ± 834 µs per loop (mean ± std. dev. of 7 runs, 10 loops each)\n"
     ]
    }
   ],
   "source": [
    "%%timeit\n",
    "crosstab(df)"
   ]
  },
  {
   "cell_type": "code",
   "execution_count": 12,
   "metadata": {},
   "outputs": [
    {
     "name": "stdout",
     "output_type": "stream",
     "text": [
      "33.3 ms ± 268 µs per loop (mean ± std. dev. of 7 runs, 10 loops each)\n"
     ]
    }
   ],
   "source": [
    "%%timeit\n",
    "df.pivot_table(values='C', index='A', columns='B', aggfunc='count', fill_value=0)"
   ]
  },
  {
   "cell_type": "code",
   "execution_count": 10,
   "metadata": {},
   "outputs": [
    {
     "name": "stdout",
     "output_type": "stream",
     "text": [
      "79.4 ms ± 891 µs per loop (mean ± std. dev. of 7 runs, 10 loops each)\n"
     ]
    }
   ],
   "source": [
    "%%timeit\n",
    "pd.crosstab(df.A, df.B)"
   ]
  },
  {
   "cell_type": "code",
   "execution_count": 10,
   "metadata": {},
   "outputs": [],
   "source": [
    "def profile_call(func, *args, **kwargs):\n",
    "    profile = cProfile.Profile()\n",
    "    profile.enable()\n",
    "    func(*args, **kwargs)\n",
    "    profile.disable()\n",
    "    stats = profile.getstats()\n",
    "    df_profile = pd.DataFrame(stats, columns=['code', 'callcount', 'reccallcount', 'totaltime', 'inlinetime', 'calls'])\n",
    "    df_profile.sort_values('totaltime', ascending=False, inplace=True)\n",
    "    return df_profile\n",
    "\n",
    "df_profile = profile_call(pd.crosstab, df.A, df.B)\n",
    "df_profile.head()"
   ]
  },
  {
   "cell_type": "code",
   "execution_count": 12,
   "metadata": {},
   "outputs": [
    {
     "data": {
      "text/html": [
       "<div>\n",
       "<style scoped>\n",
       "    .dataframe tbody tr th:only-of-type {\n",
       "        vertical-align: middle;\n",
       "    }\n",
       "\n",
       "    .dataframe tbody tr th {\n",
       "        vertical-align: top;\n",
       "    }\n",
       "\n",
       "    .dataframe thead th {\n",
       "        text-align: right;\n",
       "    }\n",
       "</style>\n",
       "<table border=\"1\" class=\"dataframe\">\n",
       "  <thead>\n",
       "    <tr style=\"text-align: right;\">\n",
       "      <th></th>\n",
       "      <th>code</th>\n",
       "      <th>callcount</th>\n",
       "      <th>reccallcount</th>\n",
       "      <th>totaltime</th>\n",
       "      <th>inlinetime</th>\n",
       "      <th>calls</th>\n",
       "    </tr>\n",
       "  </thead>\n",
       "  <tbody>\n",
       "    <tr>\n",
       "      <th>342</th>\n",
       "      <td>&lt;code object pivot_table at 0x7fa3a0208f60, fi...</td>\n",
       "      <td>1</td>\n",
       "      <td>0</td>\n",
       "      <td>0.057103</td>\n",
       "      <td>0.000040</td>\n",
       "      <td>[(&lt;code object _handle_fromlist at 0x7fa3e8a9e...</td>\n",
       "    </tr>\n",
       "    <tr>\n",
       "      <th>48</th>\n",
       "      <td>&lt;code object pivot_table at 0x7fa39f8d7a50, fi...</td>\n",
       "      <td>1</td>\n",
       "      <td>0</td>\n",
       "      <td>0.057060</td>\n",
       "      <td>0.000117</td>\n",
       "      <td>[(&lt;code object dropna at 0x7fa3a0208270, file ...</td>\n",
       "    </tr>\n",
       "    <tr>\n",
       "      <th>150</th>\n",
       "      <td>&lt;code object apply at 0x7fa39ffb2300, file \"/h...</td>\n",
       "      <td>6</td>\n",
       "      <td>0</td>\n",
       "      <td>0.032086</td>\n",
       "      <td>0.000060</td>\n",
       "      <td>[(&lt;code object fillna at 0x7fa39ffffb70, file ...</td>\n",
       "    </tr>\n",
       "    <tr>\n",
       "      <th>339</th>\n",
       "      <td>&lt;code object fillna at 0x7fa3a0203ae0, file \"/...</td>\n",
       "      <td>1</td>\n",
       "      <td>0</td>\n",
       "      <td>0.031380</td>\n",
       "      <td>0.000005</td>\n",
       "      <td>[(&lt;code object fillna at 0x7fa3a00ff780, file ...</td>\n",
       "    </tr>\n",
       "    <tr>\n",
       "      <th>325</th>\n",
       "      <td>&lt;code object fillna at 0x7fa3a00ff780, file \"/...</td>\n",
       "      <td>1</td>\n",
       "      <td>0</td>\n",
       "      <td>0.031375</td>\n",
       "      <td>0.000018</td>\n",
       "      <td>[(&lt;code object fillna at 0x7fa39ffb2ae0, file ...</td>\n",
       "    </tr>\n",
       "  </tbody>\n",
       "</table>\n",
       "</div>"
      ],
      "text/plain": [
       "                                                  code  callcount  \\\n",
       "342  <code object pivot_table at 0x7fa3a0208f60, fi...          1   \n",
       "48   <code object pivot_table at 0x7fa39f8d7a50, fi...          1   \n",
       "150  <code object apply at 0x7fa39ffb2300, file \"/h...          6   \n",
       "339  <code object fillna at 0x7fa3a0203ae0, file \"/...          1   \n",
       "325  <code object fillna at 0x7fa3a00ff780, file \"/...          1   \n",
       "\n",
       "     reccallcount  totaltime  inlinetime  \\\n",
       "342             0   0.057103    0.000040   \n",
       "48              0   0.057060    0.000117   \n",
       "150             0   0.032086    0.000060   \n",
       "339             0   0.031380    0.000005   \n",
       "325             0   0.031375    0.000018   \n",
       "\n",
       "                                                 calls  \n",
       "342  [(<code object _handle_fromlist at 0x7fa3e8a9e...  \n",
       "48   [(<code object dropna at 0x7fa3a0208270, file ...  \n",
       "150  [(<code object fillna at 0x7fa39ffffb70, file ...  \n",
       "339  [(<code object fillna at 0x7fa3a00ff780, file ...  \n",
       "325  [(<code object fillna at 0x7fa39ffb2ae0, file ...  "
      ]
     },
     "execution_count": 12,
     "metadata": {},
     "output_type": "execute_result"
    }
   ],
   "source": [
    "df_profile = profile_call(df.pivot_table, values='C', index='A', columns='B', aggfunc='count', fill_value=0)\n",
    "df_profile.head()"
   ]
  },
  {
   "cell_type": "code",
   "execution_count": 24,
   "metadata": {},
   "outputs": [
    {
     "data": {
      "text/plain": [
       "0.011541660998773295"
      ]
     },
     "execution_count": 24,
     "metadata": {},
     "output_type": "execute_result"
    }
   ],
   "source": [
    "timeit.timeit('''df.groupby(['A', 'B'])['C'].count().unstack().fillna(0)''', number=1, globals=globals())"
   ]
  },
  {
   "cell_type": "code",
   "execution_count": 171,
   "metadata": {},
   "outputs": [],
   "source": [
    "import timeit\n",
    "\n",
    "from collections import defaultdict\n",
    "from memory_profiler import memory_usage\n",
    "\n",
    "funcs = [crosstab, groupby, pivot_table]\n",
    "samples = []\n",
    "\n",
    "#for size in np.logspace(3, 7, 5):\n",
    "for size in np.logspace(3, 5, 2):\n",
    "    size = int(size)\n",
    "    repetitions = 1\n",
    "    \n",
    "    data = np.random.randint(1, 100, size=(size, 10))\n",
    "    df = pd.DataFrame(data, columns=cols)\n",
    "    \n",
    "    for func in funcs:\n",
    "        duration = timeit.timeit('func(df)', number=repetitions, globals=globals()) / repetitions\n",
    "        memory = np.mean(memory_usage(proc=(func, (df,))))\n",
    "        samples.append({'function': func.__name__, 'size': size, 'duration': duration, 'memory': memory})"
   ]
  },
  {
   "cell_type": "code",
   "execution_count": 177,
   "metadata": {},
   "outputs": [],
   "source": [
    "df_samples = pd.DataFrame(samples)\n",
    "df_samples['function'] = df_samples.function.astype('category')"
   ]
  },
  {
   "cell_type": "code",
   "execution_count": 178,
   "metadata": {},
   "outputs": [
    {
     "data": {
      "image/png": "[encoded data removed]",
      "text/plain": [
       "<Figure size 432x288 with 2 Axes>"
      ]
     },
     "metadata": {
      "needs_background": "light"
     },
     "output_type": "display_data"
    }
   ],
   "source": [
    "axes = df_crosstab.plot(subplots=True, sharex=True, kind='line')\n",
    "axes[1].set_xticklabels(df_crosstab.index);"
   ]
  },
  {
   "cell_type": "code",
   "execution_count": 181,
   "metadata": {},
   "outputs": [
    {
     "data": {
      "text/plain": [
       "array([<matplotlib.axes._subplots.AxesSubplot object at 0x7fd0d8246d30>],\n",
       "      dtype=object)"
      ]
     },
     "execution_count": 181,
     "metadata": {},
     "output_type": "execute_result"
    },
    {
     "data": {
      "image/png": "[encoded data removed]",
      "text/plain": [
       "<Figure size 432x288 with 1 Axes>"
      ]
     },
     "metadata": {
      "needs_background": "light"
     },
     "output_type": "display_data"
    }
   ],
   "source": [
    "df_samples.plot('size', 'duration', subplots=True)"
   ]
  },
  {
   "cell_type": "code",
   "execution_count": 186,
   "metadata": {},
   "outputs": [
    {
     "data": {
      "text/html": [
       "<div>\n",
       "<style scoped>\n",
       "    .dataframe tbody tr th:only-of-type {\n",
       "        vertical-align: middle;\n",
       "    }\n",
       "\n",
       "    .dataframe tbody tr th {\n",
       "        vertical-align: top;\n",
       "    }\n",
       "\n",
       "    .dataframe thead th {\n",
       "        text-align: right;\n",
       "    }\n",
       "</style>\n",
       "<table border=\"1\" class=\"dataframe\">\n",
       "  <thead>\n",
       "    <tr style=\"text-align: right;\">\n",
       "      <th></th>\n",
       "      <th></th>\n",
       "      <th>duration</th>\n",
       "      <th>memory</th>\n",
       "    </tr>\n",
       "    <tr>\n",
       "      <th>function</th>\n",
       "      <th>size</th>\n",
       "      <th></th>\n",
       "      <th></th>\n",
       "    </tr>\n",
       "  </thead>\n",
       "  <tbody>\n",
       "    <tr>\n",
       "      <th rowspan=\"2\" valign=\"top\">crosstab</th>\n",
       "      <th>1000</th>\n",
       "      <td>0.038258</td>\n",
       "      <td>1866.875</td>\n",
       "    </tr>\n",
       "    <tr>\n",
       "      <th>100000</th>\n",
       "      <td>0.084731</td>\n",
       "      <td>1866.875</td>\n",
       "    </tr>\n",
       "    <tr>\n",
       "      <th rowspan=\"2\" valign=\"top\">groupby</th>\n",
       "      <th>1000</th>\n",
       "      <td>0.004586</td>\n",
       "      <td>1866.875</td>\n",
       "    </tr>\n",
       "    <tr>\n",
       "      <th>100000</th>\n",
       "      <td>0.012005</td>\n",
       "      <td>1866.875</td>\n",
       "    </tr>\n",
       "    <tr>\n",
       "      <th>pivot_table</th>\n",
       "      <th>1000</th>\n",
       "      <td>0.037284</td>\n",
       "      <td>1866.875</td>\n",
       "    </tr>\n",
       "  </tbody>\n",
       "</table>\n",
       "</div>"
      ],
      "text/plain": [
       "                    duration    memory\n",
       "function    size                      \n",
       "crosstab    1000    0.038258  1866.875\n",
       "            100000  0.084731  1866.875\n",
       "groupby     1000    0.004586  1866.875\n",
       "            100000  0.012005  1866.875\n",
       "pivot_table 1000    0.037284  1866.875"
      ]
     },
     "execution_count": 186,
     "metadata": {},
     "output_type": "execute_result"
    }
   ],
   "source": [
    "grouped_samples = df_samples.groupby(['function', 'size']).agg(np.mean)\n",
    "grouped_samples.head()"
   ]
  },
  {
   "cell_type": "code",
   "execution_count": 201,
   "metadata": {},
   "outputs": [
    {
     "data": {
      "image/png": "[encoded data removed]",
      "text/plain": [
       "<Figure size 720x576 with 2 Axes>"
      ]
     },
     "metadata": {
      "needs_background": "light"
     },
     "output_type": "display_data"
    }
   ],
   "source": [
    "grouped_samples.plot(figsize=(10, 8), kind='bar', subplots=True);"
   ]
  },
  {
   "cell_type": "code",
   "execution_count": null,
   "metadata": {},
   "outputs": [],
   "source": []
  }
 ],
 "metadata": {
  "kernelspec": {
   "display_name": "Python 3",
   "language": "python",
   "name": "python3"
  },
  "language_info": {
   "codemirror_mode": {
    "name": "ipython",
    "version": 3
   },
   "file_extension": ".py",
   "mimetype": "text/x-python",
   "name": "python",
   "nbconvert_exporter": "python",
   "pygments_lexer": "ipython3",
   "version": "3.6.7"
  }
 },
 "nbformat": 4,
 "nbformat_minor": 4
}
