{
 "cells": [
  {
   "cell_type": "markdown",
   "metadata": {},
   "source": [
    "# r/place Color Propensity by Country"
   ]
  },
  {
   "cell_type": "markdown",
   "metadata": {},
   "source": [
    "This notebook shows how to preprocess data from the [r/Place dataset](https://www.reddit.com/r/redditdata/comments/6640ru/place_datasets_april_fools_2017/) published by reddit to create this [map showing color propensity by country](https://ramiro.org/map/world/rplace-country-color-propensity/)."
   ]
  },
  {
   "cell_type": "code",
   "execution_count": 1,
   "metadata": {},
   "outputs": [
    {
     "data": {
      "text/html": [
       "<div>\n",
       "<table border=\"1\" class=\"dataframe\">\n",
       "  <thead>\n",
       "    <tr style=\"text-align: right;\">\n",
       "      <th></th>\n",
       "      <th>iso_country_code</th>\n",
       "      <th>color_0</th>\n",
       "      <th>color_1</th>\n",
       "      <th>color_2</th>\n",
       "      <th>color_3</th>\n",
       "      <th>color_4</th>\n",
       "      <th>color_5</th>\n",
       "      <th>color_6</th>\n",
       "      <th>color_7</th>\n",
       "      <th>color_8</th>\n",
       "      <th>color_9</th>\n",
       "      <th>color_10</th>\n",
       "      <th>color_11</th>\n",
       "      <th>color_12</th>\n",
       "      <th>color_13</th>\n",
       "      <th>color_14</th>\n",
       "      <th>color_15</th>\n",
       "    </tr>\n",
       "  </thead>\n",
       "  <tbody>\n",
       "    <tr>\n",
       "      <th>0</th>\n",
       "      <td>AD</td>\n",
       "      <td>21</td>\n",
       "      <td>13</td>\n",
       "      <td>6</td>\n",
       "      <td>71</td>\n",
       "      <td>0</td>\n",
       "      <td>0</td>\n",
       "      <td>0</td>\n",
       "      <td>0</td>\n",
       "      <td>0</td>\n",
       "      <td>0</td>\n",
       "      <td>0</td>\n",
       "      <td>0</td>\n",
       "      <td>0</td>\n",
       "      <td>5</td>\n",
       "      <td>0</td>\n",
       "      <td>0</td>\n",
       "    </tr>\n",
       "    <tr>\n",
       "      <th>1</th>\n",
       "      <td>AF</td>\n",
       "      <td>5</td>\n",
       "      <td>0</td>\n",
       "      <td>0</td>\n",
       "      <td>7</td>\n",
       "      <td>0</td>\n",
       "      <td>0</td>\n",
       "      <td>0</td>\n",
       "      <td>0</td>\n",
       "      <td>6</td>\n",
       "      <td>0</td>\n",
       "      <td>0</td>\n",
       "      <td>0</td>\n",
       "      <td>0</td>\n",
       "      <td>0</td>\n",
       "      <td>0</td>\n",
       "      <td>0</td>\n",
       "    </tr>\n",
       "    <tr>\n",
       "      <th>2</th>\n",
       "      <td>AG</td>\n",
       "      <td>16</td>\n",
       "      <td>0</td>\n",
       "      <td>0</td>\n",
       "      <td>25</td>\n",
       "      <td>0</td>\n",
       "      <td>16</td>\n",
       "      <td>22</td>\n",
       "      <td>0</td>\n",
       "      <td>0</td>\n",
       "      <td>0</td>\n",
       "      <td>0</td>\n",
       "      <td>0</td>\n",
       "      <td>0</td>\n",
       "      <td>0</td>\n",
       "      <td>0</td>\n",
       "      <td>0</td>\n",
       "    </tr>\n",
       "    <tr>\n",
       "      <th>3</th>\n",
       "      <td>AI</td>\n",
       "      <td>0</td>\n",
       "      <td>0</td>\n",
       "      <td>0</td>\n",
       "      <td>21</td>\n",
       "      <td>0</td>\n",
       "      <td>0</td>\n",
       "      <td>0</td>\n",
       "      <td>0</td>\n",
       "      <td>0</td>\n",
       "      <td>0</td>\n",
       "      <td>0</td>\n",
       "      <td>0</td>\n",
       "      <td>0</td>\n",
       "      <td>0</td>\n",
       "      <td>0</td>\n",
       "      <td>0</td>\n",
       "    </tr>\n",
       "    <tr>\n",
       "      <th>4</th>\n",
       "      <td>AO</td>\n",
       "      <td>11</td>\n",
       "      <td>0</td>\n",
       "      <td>0</td>\n",
       "      <td>7</td>\n",
       "      <td>0</td>\n",
       "      <td>0</td>\n",
       "      <td>0</td>\n",
       "      <td>0</td>\n",
       "      <td>0</td>\n",
       "      <td>0</td>\n",
       "      <td>0</td>\n",
       "      <td>0</td>\n",
       "      <td>0</td>\n",
       "      <td>23</td>\n",
       "      <td>0</td>\n",
       "      <td>0</td>\n",
       "    </tr>\n",
       "  </tbody>\n",
       "</table>\n",
       "</div>"
      ],
      "text/plain": [
       "  iso_country_code  color_0  color_1  color_2  color_3  color_4  color_5  \\\n",
       "0               AD       21       13        6       71        0        0   \n",
       "1               AF        5        0        0        7        0        0   \n",
       "2               AG       16        0        0       25        0       16   \n",
       "3               AI        0        0        0       21        0        0   \n",
       "4               AO       11        0        0        7        0        0   \n",
       "\n",
       "   color_6  color_7  color_8  color_9  color_10  color_11  color_12  color_13  \\\n",
       "0        0        0        0        0         0         0         0         5   \n",
       "1        0        0        6        0         0         0         0         0   \n",
       "2       22        0        0        0         0         0         0         0   \n",
       "3        0        0        0        0         0         0         0         0   \n",
       "4        0        0        0        0         0         0         0        23   \n",
       "\n",
       "   color_14  color_15  \n",
       "0         0         0  \n",
       "1         0         0  \n",
       "2         0         0  \n",
       "3         0         0  \n",
       "4         0         0  "
      ]
     },
     "execution_count": 1,
     "metadata": {},
     "output_type": "execute_result"
    }
   ],
   "source": [
    "%load_ext signature\n",
    "\n",
    "import os\n",
    "\n",
    "import pandas as pd\n",
    "import geonamescache\n",
    "\n",
    "data_dir = os.path.expanduser('~/data')\n",
    "gc = geonamescache.GeonamesCache()\n",
    "df = pd.read_csv(os.path.join(data_dir, 'reddit', 'rplace-country-color-propensity.csv'))\n",
    "\n",
    "df.head()"
   ]
  },
  {
   "cell_type": "markdown",
   "metadata": {},
   "source": [
    "## Add ISO 3 country codes"
   ]
  },
  {
   "cell_type": "code",
   "execution_count": 2,
   "metadata": {
    "collapsed": true
   },
   "outputs": [],
   "source": [
    "df_map = df.dropna().copy()\n",
    "names = gc.get_countries()\n",
    "df_map['iso3'] = df_map['iso_country_code'].apply(lambda x: names[x]['iso3'] if x in names else None)"
   ]
  },
  {
   "cell_type": "markdown",
   "metadata": {},
   "source": [
    "## Non-country ISO 2 codes used by reddit"
   ]
  },
  {
   "cell_type": "code",
   "execution_count": 3,
   "metadata": {},
   "outputs": [
    {
     "data": {
      "text/html": [
       "<div>\n",
       "<table border=\"1\" class=\"dataframe\">\n",
       "  <thead>\n",
       "    <tr style=\"text-align: right;\">\n",
       "      <th></th>\n",
       "      <th>iso_country_code</th>\n",
       "      <th>color_0</th>\n",
       "      <th>color_1</th>\n",
       "      <th>color_2</th>\n",
       "      <th>color_3</th>\n",
       "      <th>color_4</th>\n",
       "      <th>color_5</th>\n",
       "      <th>color_6</th>\n",
       "      <th>color_7</th>\n",
       "      <th>color_8</th>\n",
       "      <th>color_9</th>\n",
       "      <th>color_10</th>\n",
       "      <th>color_11</th>\n",
       "      <th>color_12</th>\n",
       "      <th>color_13</th>\n",
       "      <th>color_14</th>\n",
       "      <th>color_15</th>\n",
       "      <th>iso3</th>\n",
       "    </tr>\n",
       "  </thead>\n",
       "  <tbody>\n",
       "    <tr>\n",
       "      <th>88</th>\n",
       "      <td>AP</td>\n",
       "      <td>71</td>\n",
       "      <td>8</td>\n",
       "      <td>0</td>\n",
       "      <td>95</td>\n",
       "      <td>0</td>\n",
       "      <td>44</td>\n",
       "      <td>17</td>\n",
       "      <td>21</td>\n",
       "      <td>50</td>\n",
       "      <td>9</td>\n",
       "      <td>11</td>\n",
       "      <td>12</td>\n",
       "      <td>14</td>\n",
       "      <td>65</td>\n",
       "      <td>0</td>\n",
       "      <td>0</td>\n",
       "      <td>None</td>\n",
       "    </tr>\n",
       "    <tr>\n",
       "      <th>122</th>\n",
       "      <td>EU</td>\n",
       "      <td>403</td>\n",
       "      <td>28</td>\n",
       "      <td>44</td>\n",
       "      <td>713</td>\n",
       "      <td>124</td>\n",
       "      <td>452</td>\n",
       "      <td>178</td>\n",
       "      <td>46</td>\n",
       "      <td>260</td>\n",
       "      <td>56</td>\n",
       "      <td>140</td>\n",
       "      <td>45</td>\n",
       "      <td>42</td>\n",
       "      <td>541</td>\n",
       "      <td>11</td>\n",
       "      <td>38</td>\n",
       "      <td>None</td>\n",
       "    </tr>\n",
       "    <tr>\n",
       "      <th>175</th>\n",
       "      <td>A1</td>\n",
       "      <td>1433</td>\n",
       "      <td>54</td>\n",
       "      <td>142</td>\n",
       "      <td>3523</td>\n",
       "      <td>376</td>\n",
       "      <td>1171</td>\n",
       "      <td>2207</td>\n",
       "      <td>84</td>\n",
       "      <td>924</td>\n",
       "      <td>181</td>\n",
       "      <td>467</td>\n",
       "      <td>258</td>\n",
       "      <td>189</td>\n",
       "      <td>879</td>\n",
       "      <td>89</td>\n",
       "      <td>269</td>\n",
       "      <td>None</td>\n",
       "    </tr>\n",
       "  </tbody>\n",
       "</table>\n",
       "</div>"
      ],
      "text/plain": [
       "    iso_country_code  color_0  color_1  color_2  color_3  color_4  color_5  \\\n",
       "88                AP       71        8        0       95        0       44   \n",
       "122               EU      403       28       44      713      124      452   \n",
       "175               A1     1433       54      142     3523      376     1171   \n",
       "\n",
       "     color_6  color_7  color_8  color_9  color_10  color_11  color_12  \\\n",
       "88        17       21       50        9        11        12        14   \n",
       "122      178       46      260       56       140        45        42   \n",
       "175     2207       84      924      181       467       258       189   \n",
       "\n",
       "     color_13  color_14  color_15  iso3  \n",
       "88         65         0         0  None  \n",
       "122       541        11        38  None  \n",
       "175       879        89       269  None  "
      ]
     },
     "execution_count": 3,
     "metadata": {},
     "output_type": "execute_result"
    }
   ],
   "source": [
    "df_map[df_map['iso3'].isnull()]"
   ]
  },
  {
   "cell_type": "markdown",
   "metadata": {},
   "source": [
    "## Drop non-countries and determine most used color"
   ]
  },
  {
   "cell_type": "code",
   "execution_count": 4,
   "metadata": {
    "collapsed": true
   },
   "outputs": [],
   "source": [
    "df_map.dropna(inplace=True)\n",
    "df_map['top_color'] = df_map._get_numeric_data().idxmax(axis='columns').apply(lambda x: x.replace('color_', ''))"
   ]
  },
  {
   "cell_type": "code",
   "execution_count": 5,
   "metadata": {
    "collapsed": true
   },
   "outputs": [],
   "source": [
    "df_map[['iso3', 'top_color']].to_csv('./data/rplace-country-color-propensity.csv', index=False)"
   ]
  },
  {
   "cell_type": "code",
   "execution_count": 6,
   "metadata": {},
   "outputs": [
    {
     "data": {
      "text/html": [
       "Author: <a href=\"https://ramiro.org/\">Ramiro Gómez</a>\n",
       "            • Last edited: April 19, 2017<br>Linux 4.4.0-72-generic - CPython 3.6.1 - IPython 5.3.0 - matplotlib 2.0.0 - numpy 1.12.1 - pandas 0.19.2"
      ],
      "text/plain": [
       "<IPython.core.display.HTML object>"
      ]
     },
     "execution_count": 6,
     "metadata": {},
     "output_type": "execute_result"
    }
   ],
   "source": [
    "signature"
   ]
  }
 ],
 "metadata": {
  "kernelspec": {
   "display_name": "Python 3",
   "language": "python",
   "name": "python3"
  },
  "language_info": {
   "codemirror_mode": {
    "name": "ipython",
    "version": 3
   },
   "file_extension": ".py",
   "mimetype": "text/x-python",
   "name": "python",
   "nbconvert_exporter": "python",
   "pygments_lexer": "ipython3",
   "version": "3.6.1"
  }
 },
 "nbformat": 4,
 "nbformat_minor": 1
}
