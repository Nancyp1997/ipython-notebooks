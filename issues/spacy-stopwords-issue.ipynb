{
 "cells": [
  {
   "cell_type": "code",
   "execution_count": 16,
   "metadata": {},
   "outputs": [
    {
     "name": "stdout",
     "output_type": "stream",
     "text": [
      "False This DET\n",
      "True is VERB\n",
      "True a DET\n",
      "False sentence NOUN\n",
      "True that ADJ\n",
      "False contains VERB\n",
      "False stopwords NOUN\n",
      "False . PUNCT\n"
     ]
    }
   ],
   "source": [
    "import spacy\n",
    "\n",
    "text = 'This is a sentence that contains stopwords.'\n",
    "\n",
    "nlp = spacy.load('en_core_web_md')\n",
    "for word in nlp.Defaults.stop_words:\n",
    "    nlp.vocab[word].is_stop = True\n",
    "    \n",
    "for token in nlp(text):\n",
    "    print(token.is_stop, token.text, token.pos_)"
   ]
  },
  {
   "cell_type": "code",
   "execution_count": 12,
   "metadata": {},
   "outputs": [
    {
     "name": "stdout",
     "output_type": "stream",
     "text": [
      "False This DET\n",
      "True is VERB\n",
      "True a DET\n",
      "False sentence NOUN\n",
      "True that ADJ\n",
      "False contains VERB\n",
      "False stopwords NOUN\n",
      "False . PUNCT\n"
     ]
    }
   ],
   "source": [
    "for token in spacy.load('en_core_web_sm')(text):\n",
    "    print(token.is_stop, token.text, token.pos_)"
   ]
  },
  {
   "cell_type": "code",
   "execution_count": 13,
   "metadata": {},
   "outputs": [
    {
     "name": "stdout",
     "output_type": "stream",
     "text": [
      "False This DET\n",
      "False is VERB\n",
      "False a DET\n",
      "False sentence NOUN\n",
      "False that ADJ\n",
      "False contains VERB\n",
      "False stopwords NOUN\n",
      "False . PUNCT\n"
     ]
    }
   ],
   "source": [
    "for token in spacy.load('en_core_web_md')(text):\n",
    "    print(token.is_stop, token.text, token.pos_)"
   ]
  },
  {
   "cell_type": "code",
   "execution_count": 17,
   "metadata": {},
   "outputs": [
    {
     "name": "stdout",
     "output_type": "stream",
     "text": [
      "False This DET\n",
      "False is VERB\n",
      "False a DET\n",
      "False sentence NOUN\n",
      "False that ADJ\n",
      "False contains VERB\n",
      "False stopwords NOUN\n",
      "False . PUNCT\n"
     ]
    }
   ],
   "source": [
    "for token in spacy.load('en_core_web_lg')(text):\n",
    "    print(token.is_stop, token.text, token.pos_)"
   ]
  },
  {
   "cell_type": "code",
   "execution_count": 20,
   "metadata": {},
   "outputs": [],
   "source": [
    "import en_core_web_lg"
   ]
  },
  {
   "cell_type": "code",
   "execution_count": 21,
   "metadata": {},
   "outputs": [
    {
     "data": {
      "text/plain": [
       "'2.0.0'"
      ]
     },
     "execution_count": 21,
     "metadata": {},
     "output_type": "execute_result"
    }
   ],
   "source": [
    "en_core_web_lg.__version__"
   ]
  }
 ],
 "metadata": {
  "kernelspec": {
   "display_name": "Python 3",
   "language": "python",
   "name": "python3"
  },
  "language_info": {
   "codemirror_mode": {
    "name": "ipython",
    "version": 3
   },
   "file_extension": ".py",
   "mimetype": "text/x-python",
   "name": "python",
   "nbconvert_exporter": "python",
   "pygments_lexer": "ipython3",
   "version": "3.6.7"
  }
 },
 "nbformat": 4,
 "nbformat_minor": 2
}
