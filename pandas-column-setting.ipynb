{
 "cells": [
  {
   "cell_type": "markdown",
   "metadata": {},
   "source": [
    "# Setting a column based on another one and multiple conditions in pandas\n",
    "\n",
    "This short notebook shows a way to set the value of one column in a CSV file, that satisfies multiple conditions, by extracting information from another column using the [pandas library](https://pandas.pydata.org/). In addition the standard library [re module](https://docs.python.org/3/library/re.html) will be used for extracting strings using regular expressions.\n",
    "\n",
    "Setting columns based on other columns is a common task in pandas and there are many straightforward methods for working with numeric data. While working on [ukealong.com](https://ukealong.com/), a website with more than 1,000 play along videos for the ukulele, I had a slightly more complex scenario to deal with. The meta data for the videos, which includes artists and track names is maintained in a CSV file. The source data comes from several YouTube channels, that create these play along videos. Let's look at a small subset of the data, that includes 10 records and only the relevant columns for demonstrating the column setting."
   ]
  },
  {
   "cell_type": "code",
   "execution_count": 1,
   "metadata": {},
   "outputs": [
    {
     "data": {
      "text/html": [
       "<div>\n",
       "<style scoped>\n",
       "    .dataframe tbody tr th:only-of-type {\n",
       "        vertical-align: middle;\n",
       "    }\n",
       "\n",
       "    .dataframe tbody tr th {\n",
       "        vertical-align: top;\n",
       "    }\n",
       "\n",
       "    .dataframe thead th {\n",
       "        text-align: right;\n",
       "    }\n",
       "</style>\n",
       "<table border=\"1\" class=\"dataframe\">\n",
       "  <thead>\n",
       "    <tr style=\"text-align: right;\">\n",
       "      <th></th>\n",
       "      <th>artists</th>\n",
       "      <th>track</th>\n",
       "      <th>title</th>\n",
       "      <th>channel_id</th>\n",
       "    </tr>\n",
       "  </thead>\n",
       "  <tbody>\n",
       "    <tr>\n",
       "      <th>0</th>\n",
       "      <td>NaN</td>\n",
       "      <td>NaN</td>\n",
       "      <td>\"Something\" (The Beatles) Ukulele Play-Along!</td>\n",
       "      <td>UCDglnz22aXMzpug5HbD1bCA</td>\n",
       "    </tr>\n",
       "    <tr>\n",
       "      <th>1</th>\n",
       "      <td>NaN</td>\n",
       "      <td>NaN</td>\n",
       "      <td>Arthur Theme Song Ukulele Play-Along!</td>\n",
       "      <td>UCDglnz22aXMzpug5HbD1bCA</td>\n",
       "    </tr>\n",
       "    <tr>\n",
       "      <th>2</th>\n",
       "      <td>NaN</td>\n",
       "      <td>NaN</td>\n",
       "      <td>\"Black Magic Woman\" (Santana) Ukulele Play-Along!</td>\n",
       "      <td>UCDglnz22aXMzpug5HbD1bCA</td>\n",
       "    </tr>\n",
       "    <tr>\n",
       "      <th>3</th>\n",
       "      <td>Israel Kamakawiwo'ole</td>\n",
       "      <td>White Sandy Beach of Hawaii</td>\n",
       "      <td>\"White Sandy Beach of Hawaii\" (Braddah IZ) Uku...</td>\n",
       "      <td>UCDglnz22aXMzpug5HbD1bCA</td>\n",
       "    </tr>\n",
       "    <tr>\n",
       "      <th>4</th>\n",
       "      <td>NaN</td>\n",
       "      <td>What Will We Do With a Drunken Sailor</td>\n",
       "      <td>What Will We Do With a Drunken Sailor</td>\n",
       "      <td>UC6jZYLoYuV1CxY4Stzm6mgg</td>\n",
       "    </tr>\n",
       "    <tr>\n",
       "      <th>5</th>\n",
       "      <td>NaN</td>\n",
       "      <td>Frere Jacques</td>\n",
       "      <td>Frere Jacques</td>\n",
       "      <td>UCZjDV_1UEbVsAQA_q9tyTWw</td>\n",
       "    </tr>\n",
       "    <tr>\n",
       "      <th>6</th>\n",
       "      <td>NaN</td>\n",
       "      <td>NaN</td>\n",
       "      <td>\"What's Up?\" (4 Non Blondes) Ukulele Play Along!</td>\n",
       "      <td>UCDglnz22aXMzpug5HbD1bCA</td>\n",
       "    </tr>\n",
       "    <tr>\n",
       "      <th>7</th>\n",
       "      <td>NaN</td>\n",
       "      <td>NaN</td>\n",
       "      <td>\"Lucy in the Sky with Diamonds\" (The Beatles) ...</td>\n",
       "      <td>UCDglnz22aXMzpug5HbD1bCA</td>\n",
       "    </tr>\n",
       "    <tr>\n",
       "      <th>8</th>\n",
       "      <td>NaN</td>\n",
       "      <td>NaN</td>\n",
       "      <td>Lava Ukulele Play-along // Cynthia Lin (Chords...</td>\n",
       "      <td>UCD2q6i-C0ZLJUK-VCp49TJA</td>\n",
       "    </tr>\n",
       "    <tr>\n",
       "      <th>9</th>\n",
       "      <td>Weezer</td>\n",
       "      <td>Island In The Sun</td>\n",
       "      <td>\"Island In The Sun\" Ukulele Play-Along!</td>\n",
       "      <td>UCbQn9nS2_W-dsmnr3h_Rpvg</td>\n",
       "    </tr>\n",
       "  </tbody>\n",
       "</table>\n",
       "</div>"
      ],
      "text/plain": [
       "                 artists                                  track  \\\n",
       "0                    NaN                                    NaN   \n",
       "1                    NaN                                    NaN   \n",
       "2                    NaN                                    NaN   \n",
       "3  Israel Kamakawiwo'ole            White Sandy Beach of Hawaii   \n",
       "4                    NaN  What Will We Do With a Drunken Sailor   \n",
       "5                    NaN                          Frere Jacques   \n",
       "6                    NaN                                    NaN   \n",
       "7                    NaN                                    NaN   \n",
       "8                    NaN                                    NaN   \n",
       "9                 Weezer                      Island In The Sun   \n",
       "\n",
       "                                               title                channel_id  \n",
       "0      \"Something\" (The Beatles) Ukulele Play-Along!  UCDglnz22aXMzpug5HbD1bCA  \n",
       "1              Arthur Theme Song Ukulele Play-Along!  UCDglnz22aXMzpug5HbD1bCA  \n",
       "2  \"Black Magic Woman\" (Santana) Ukulele Play-Along!  UCDglnz22aXMzpug5HbD1bCA  \n",
       "3  \"White Sandy Beach of Hawaii\" (Braddah IZ) Uku...  UCDglnz22aXMzpug5HbD1bCA  \n",
       "4              What Will We Do With a Drunken Sailor  UC6jZYLoYuV1CxY4Stzm6mgg  \n",
       "5                                      Frere Jacques  UCZjDV_1UEbVsAQA_q9tyTWw  \n",
       "6   \"What's Up?\" (4 Non Blondes) Ukulele Play Along!  UCDglnz22aXMzpug5HbD1bCA  \n",
       "7  \"Lucy in the Sky with Diamonds\" (The Beatles) ...  UCDglnz22aXMzpug5HbD1bCA  \n",
       "8  Lava Ukulele Play-along // Cynthia Lin (Chords...  UCD2q6i-C0ZLJUK-VCp49TJA  \n",
       "9            \"Island In The Sun\" Ukulele Play-Along!  UCbQn9nS2_W-dsmnr3h_Rpvg  "
      ]
     },
     "execution_count": 1,
     "metadata": {},
     "output_type": "execute_result"
    }
   ],
   "source": [
    "%load_ext signature\n",
    "import re\n",
    "import pandas as pd\n",
    "\n",
    "df = pd.read_csv('data/ukealong-column-setting-sample.csv')\n",
    "df"
   ]
  },
  {
   "cell_type": "markdown",
   "metadata": {},
   "source": [
    "After importing videos from [this playlist](https://www.youtube.com/playlist?list=PLCD6F28C13A0A9AC2) by [Ukulele Underground](https://ukuleleunderground.com/), I faced the task of manually updating the artists and track columns for more than 100 videos. I did this for some of them and thought there must be a better way. Most of their YouTube titles follow the format _\"TRACK\" (ARTIST) Ukulele Play-Along!_, so the relevant information could be extracted using regular expressions. I only wanted to update records where the `artists` and `track` columns were not already set, which led to the following condition:"
   ]
  },
  {
   "cell_type": "code",
   "execution_count": 2,
   "metadata": {},
   "outputs": [],
   "source": [
    "condition = (df['channel_id'] == 'UCDglnz22aXMzpug5HbD1bCA') & df['artists'].isna() & df['track'].isna()"
   ]
  },
  {
   "cell_type": "markdown",
   "metadata": {},
   "source": [
    "The cell below contains the regular expression for matching the value for the `artists` column and the function to extract the name from the title."
   ]
  },
  {
   "cell_type": "code",
   "execution_count": 3,
   "metadata": {},
   "outputs": [],
   "source": [
    "re_artists = re.compile(r'\\((.+?)\\)')\n",
    "\n",
    "def add_artists(s):\n",
    "    m = re.search(re_artists, s)\n",
    "    if m:\n",
    "        return m.group(1)\n",
    "    return ''"
   ]
  },
  {
   "cell_type": "markdown",
   "metadata": {},
   "source": [
    "The next cell contains the regular expression for matching the value for the `track` column and the function to extract the name from the title. Notice that I use the `match` function this time, which tries to match the regular expression at the beginning of string."
   ]
  },
  {
   "cell_type": "code",
   "execution_count": 4,
   "metadata": {},
   "outputs": [],
   "source": [
    "re_track = re.compile(r'\"(.+?)\"')\n",
    "\n",
    "def add_track(s):\n",
    "    m = re.match(re_track, s)\n",
    "    if m:\n",
    "        return m.group(1)\n",
    "    return ''"
   ]
  },
  {
   "cell_type": "markdown",
   "metadata": {},
   "source": [
    "Now the two columns can be updated by applying the respective functions defined above."
   ]
  },
  {
   "cell_type": "code",
   "execution_count": 5,
   "metadata": {},
   "outputs": [
    {
     "data": {
      "text/html": [
       "<div>\n",
       "<style scoped>\n",
       "    .dataframe tbody tr th:only-of-type {\n",
       "        vertical-align: middle;\n",
       "    }\n",
       "\n",
       "    .dataframe tbody tr th {\n",
       "        vertical-align: top;\n",
       "    }\n",
       "\n",
       "    .dataframe thead th {\n",
       "        text-align: right;\n",
       "    }\n",
       "</style>\n",
       "<table border=\"1\" class=\"dataframe\">\n",
       "  <thead>\n",
       "    <tr style=\"text-align: right;\">\n",
       "      <th></th>\n",
       "      <th>artists</th>\n",
       "      <th>track</th>\n",
       "      <th>title</th>\n",
       "      <th>channel_id</th>\n",
       "    </tr>\n",
       "  </thead>\n",
       "  <tbody>\n",
       "    <tr>\n",
       "      <th>0</th>\n",
       "      <td>The Beatles</td>\n",
       "      <td>Something</td>\n",
       "      <td>\"Something\" (The Beatles) Ukulele Play-Along!</td>\n",
       "      <td>UCDglnz22aXMzpug5HbD1bCA</td>\n",
       "    </tr>\n",
       "    <tr>\n",
       "      <th>1</th>\n",
       "      <td></td>\n",
       "      <td></td>\n",
       "      <td>Arthur Theme Song Ukulele Play-Along!</td>\n",
       "      <td>UCDglnz22aXMzpug5HbD1bCA</td>\n",
       "    </tr>\n",
       "    <tr>\n",
       "      <th>2</th>\n",
       "      <td>Santana</td>\n",
       "      <td>Black Magic Woman</td>\n",
       "      <td>\"Black Magic Woman\" (Santana) Ukulele Play-Along!</td>\n",
       "      <td>UCDglnz22aXMzpug5HbD1bCA</td>\n",
       "    </tr>\n",
       "    <tr>\n",
       "      <th>3</th>\n",
       "      <td>Israel Kamakawiwo'ole</td>\n",
       "      <td>White Sandy Beach of Hawaii</td>\n",
       "      <td>\"White Sandy Beach of Hawaii\" (Braddah IZ) Uku...</td>\n",
       "      <td>UCDglnz22aXMzpug5HbD1bCA</td>\n",
       "    </tr>\n",
       "    <tr>\n",
       "      <th>4</th>\n",
       "      <td>NaN</td>\n",
       "      <td>What Will We Do With a Drunken Sailor</td>\n",
       "      <td>What Will We Do With a Drunken Sailor</td>\n",
       "      <td>UC6jZYLoYuV1CxY4Stzm6mgg</td>\n",
       "    </tr>\n",
       "    <tr>\n",
       "      <th>5</th>\n",
       "      <td>NaN</td>\n",
       "      <td>Frere Jacques</td>\n",
       "      <td>Frere Jacques</td>\n",
       "      <td>UCZjDV_1UEbVsAQA_q9tyTWw</td>\n",
       "    </tr>\n",
       "    <tr>\n",
       "      <th>6</th>\n",
       "      <td>4 Non Blondes</td>\n",
       "      <td>What's Up?</td>\n",
       "      <td>\"What's Up?\" (4 Non Blondes) Ukulele Play Along!</td>\n",
       "      <td>UCDglnz22aXMzpug5HbD1bCA</td>\n",
       "    </tr>\n",
       "    <tr>\n",
       "      <th>7</th>\n",
       "      <td>The Beatles</td>\n",
       "      <td>Lucy in the Sky with Diamonds</td>\n",
       "      <td>\"Lucy in the Sky with Diamonds\" (The Beatles) ...</td>\n",
       "      <td>UCDglnz22aXMzpug5HbD1bCA</td>\n",
       "    </tr>\n",
       "    <tr>\n",
       "      <th>8</th>\n",
       "      <td>NaN</td>\n",
       "      <td>NaN</td>\n",
       "      <td>Lava Ukulele Play-along // Cynthia Lin (Chords...</td>\n",
       "      <td>UCD2q6i-C0ZLJUK-VCp49TJA</td>\n",
       "    </tr>\n",
       "    <tr>\n",
       "      <th>9</th>\n",
       "      <td>Weezer</td>\n",
       "      <td>Island In The Sun</td>\n",
       "      <td>\"Island In The Sun\" Ukulele Play-Along!</td>\n",
       "      <td>UCbQn9nS2_W-dsmnr3h_Rpvg</td>\n",
       "    </tr>\n",
       "  </tbody>\n",
       "</table>\n",
       "</div>"
      ],
      "text/plain": [
       "                 artists                                  track  \\\n",
       "0            The Beatles                              Something   \n",
       "1                                                                 \n",
       "2                Santana                      Black Magic Woman   \n",
       "3  Israel Kamakawiwo'ole            White Sandy Beach of Hawaii   \n",
       "4                    NaN  What Will We Do With a Drunken Sailor   \n",
       "5                    NaN                          Frere Jacques   \n",
       "6          4 Non Blondes                             What's Up?   \n",
       "7            The Beatles          Lucy in the Sky with Diamonds   \n",
       "8                    NaN                                    NaN   \n",
       "9                 Weezer                      Island In The Sun   \n",
       "\n",
       "                                               title                channel_id  \n",
       "0      \"Something\" (The Beatles) Ukulele Play-Along!  UCDglnz22aXMzpug5HbD1bCA  \n",
       "1              Arthur Theme Song Ukulele Play-Along!  UCDglnz22aXMzpug5HbD1bCA  \n",
       "2  \"Black Magic Woman\" (Santana) Ukulele Play-Along!  UCDglnz22aXMzpug5HbD1bCA  \n",
       "3  \"White Sandy Beach of Hawaii\" (Braddah IZ) Uku...  UCDglnz22aXMzpug5HbD1bCA  \n",
       "4              What Will We Do With a Drunken Sailor  UC6jZYLoYuV1CxY4Stzm6mgg  \n",
       "5                                      Frere Jacques  UCZjDV_1UEbVsAQA_q9tyTWw  \n",
       "6   \"What's Up?\" (4 Non Blondes) Ukulele Play Along!  UCDglnz22aXMzpug5HbD1bCA  \n",
       "7  \"Lucy in the Sky with Diamonds\" (The Beatles) ...  UCDglnz22aXMzpug5HbD1bCA  \n",
       "8  Lava Ukulele Play-along // Cynthia Lin (Chords...  UCD2q6i-C0ZLJUK-VCp49TJA  \n",
       "9            \"Island In The Sun\" Ukulele Play-Along!  UCbQn9nS2_W-dsmnr3h_Rpvg  "
      ]
     },
     "execution_count": 5,
     "metadata": {},
     "output_type": "execute_result"
    }
   ],
   "source": [
    "df.loc[condition, 'artists'] = df.title.apply(add_artists)\n",
    "df.loc[condition, 'track'] = df.title.apply(add_track)\n",
    "df"
   ]
  },
  {
   "cell_type": "markdown",
   "metadata": {},
   "source": [
    "After running this code on the actual CSV file most of the Ukulele Underground records showed the correct information in the two columns. Quite frankly, writing the code probably took longer than updating 100 records manually would have, let alone documenting the process in this notebook. On the other hand I can integrate the code in the process of adding new videos when their channel is updated. Moreover, I now have a reference for similar tasks in the future and it hopefully helps other people who face a similar problem.\n",
    "\n",
    "Last but not least, if you play the ukulele or want to learn it, I hope you'll dig [ukealong.com](https://ukealong.com/), share the site with your friends and show the creators of the play along videos some love by subscribing to their channels and liking their videos on YouTube. Playing music is really a joyful way to spend your time and helps to clear the mind in these times of uncertainty."
   ]
  },
  {
   "cell_type": "code",
   "execution_count": 6,
   "metadata": {},
   "outputs": [
    {
     "data": {
      "text/html": [
       "Author: <a href=\"https://ramiro.org/\">Ramiro Gómez</a>\n",
       "            • Last edited: March 29, 2020<br>Linux 5.3.0-42-generic - CPython 3.7.6 - IPython 7.13.0 - matplotlib 3.2.1 - numpy 1.18.1 - pandas 1.0.3"
      ],
      "text/plain": [
       "<IPython.core.display.HTML object>"
      ]
     },
     "execution_count": 6,
     "metadata": {},
     "output_type": "execute_result"
    }
   ],
   "source": [
    "%signature"
   ]
  }
 ],
 "metadata": {
  "kernelspec": {
   "display_name": "Python 3",
   "language": "python",
   "name": "python3"
  },
  "language_info": {
   "codemirror_mode": {
    "name": "ipython",
    "version": 3
   },
   "file_extension": ".py",
   "mimetype": "text/x-python",
   "name": "python",
   "nbconvert_exporter": "python",
   "pygments_lexer": "ipython3",
   "version": "3.7.6"
  }
 },
 "nbformat": 4,
 "nbformat_minor": 4
}
