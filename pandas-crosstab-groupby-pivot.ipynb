{
 "cells": [
  {
   "cell_type": "markdown",
   "metadata": {},
   "source": [
    "# Runtime comparison of pandas crosstab, groupby and pivot_table\n",
    "\n",
    "The pandas library is very powerful and offers several ways to group and summarize data. Typically, I use the `groupby` method but find `pivot_table` to be more readable. There is also `crosstab` as another alternative. In this notebook I'll do a short comparison of the runtime of `groupby`, `pivot_table` and `crosstab`. Let's first look at a DataFrame consisting of 10 columns and 100,000 rows of random integers between 1 and 100. The DataFrame will be grouped by the columns `A` and `B` counting the values in column `C`. The three operations result in data frames containing the same values."
   ]
  },
  {
   "cell_type": "code",
   "execution_count": 1,
   "metadata": {},
   "outputs": [
    {
     "data": {
      "text/html": [
       "<div>\n",
       "<style scoped>\n",
       "    .dataframe tbody tr th:only-of-type {\n",
       "        vertical-align: middle;\n",
       "    }\n",
       "\n",
       "    .dataframe tbody tr th {\n",
       "        vertical-align: top;\n",
       "    }\n",
       "\n",
       "    .dataframe thead th {\n",
       "        text-align: right;\n",
       "    }\n",
       "</style>\n",
       "<table border=\"1\" class=\"dataframe\">\n",
       "  <thead>\n",
       "    <tr style=\"text-align: right;\">\n",
       "      <th></th>\n",
       "      <th>A</th>\n",
       "      <th>B</th>\n",
       "      <th>C</th>\n",
       "      <th>D</th>\n",
       "      <th>E</th>\n",
       "      <th>F</th>\n",
       "      <th>G</th>\n",
       "      <th>H</th>\n",
       "      <th>I</th>\n",
       "      <th>J</th>\n",
       "    </tr>\n",
       "  </thead>\n",
       "  <tbody>\n",
       "    <tr>\n",
       "      <th>0</th>\n",
       "      <td>52</td>\n",
       "      <td>93</td>\n",
       "      <td>15</td>\n",
       "      <td>72</td>\n",
       "      <td>61</td>\n",
       "      <td>21</td>\n",
       "      <td>83</td>\n",
       "      <td>87</td>\n",
       "      <td>75</td>\n",
       "      <td>75</td>\n",
       "    </tr>\n",
       "    <tr>\n",
       "      <th>1</th>\n",
       "      <td>88</td>\n",
       "      <td>24</td>\n",
       "      <td>3</td>\n",
       "      <td>22</td>\n",
       "      <td>53</td>\n",
       "      <td>2</td>\n",
       "      <td>88</td>\n",
       "      <td>30</td>\n",
       "      <td>38</td>\n",
       "      <td>2</td>\n",
       "    </tr>\n",
       "    <tr>\n",
       "      <th>2</th>\n",
       "      <td>64</td>\n",
       "      <td>60</td>\n",
       "      <td>21</td>\n",
       "      <td>33</td>\n",
       "      <td>76</td>\n",
       "      <td>58</td>\n",
       "      <td>22</td>\n",
       "      <td>89</td>\n",
       "      <td>49</td>\n",
       "      <td>91</td>\n",
       "    </tr>\n",
       "    <tr>\n",
       "      <th>3</th>\n",
       "      <td>59</td>\n",
       "      <td>42</td>\n",
       "      <td>92</td>\n",
       "      <td>60</td>\n",
       "      <td>80</td>\n",
       "      <td>15</td>\n",
       "      <td>62</td>\n",
       "      <td>62</td>\n",
       "      <td>47</td>\n",
       "      <td>62</td>\n",
       "    </tr>\n",
       "    <tr>\n",
       "      <th>4</th>\n",
       "      <td>51</td>\n",
       "      <td>55</td>\n",
       "      <td>64</td>\n",
       "      <td>3</td>\n",
       "      <td>51</td>\n",
       "      <td>7</td>\n",
       "      <td>21</td>\n",
       "      <td>73</td>\n",
       "      <td>39</td>\n",
       "      <td>18</td>\n",
       "    </tr>\n",
       "  </tbody>\n",
       "</table>\n",
       "</div>"
      ],
      "text/plain": [
       "    A   B   C   D   E   F   G   H   I   J\n",
       "0  52  93  15  72  61  21  83  87  75  75\n",
       "1  88  24   3  22  53   2  88  30  38   2\n",
       "2  64  60  21  33  76  58  22  89  49  91\n",
       "3  59  42  92  60  80  15  62  62  47  62\n",
       "4  51  55  64   3  51   7  21  73  39  18"
      ]
     },
     "execution_count": 1,
     "metadata": {},
     "output_type": "execute_result"
    }
   ],
   "source": [
    "%matplotlib inline\n",
    "from string import ascii_uppercase\n",
    "\n",
    "import matplotlib.pyplot as plt\n",
    "import numpy as np\n",
    "import pandas as pd\n",
    "\n",
    "plt.style.use('ramiro')\n",
    "cols = list(ascii_uppercase[:10])\n",
    "np.random.seed(42)\n",
    "data = np.random.randint(1, 100, size=(100_000, 10))\n",
    "df = pd.DataFrame(data, columns=cols)\n",
    "df.head()"
   ]
  },
  {
   "cell_type": "code",
   "execution_count": 2,
   "metadata": {},
   "outputs": [
    {
     "name": "stdout",
     "output_type": "stream",
     "text": [
      "8.3 ms ± 176 µs per loop (mean ± std. dev. of 7 runs, 100 loops each)\n"
     ]
    }
   ],
   "source": [
    "%%timeit\n",
    "df.groupby(['A', 'B'])['C'].count().unstack(fill_value=0)"
   ]
  },
  {
   "cell_type": "code",
   "execution_count": 3,
   "metadata": {},
   "outputs": [
    {
     "name": "stdout",
     "output_type": "stream",
     "text": [
      "35.8 ms ± 666 µs per loop (mean ± std. dev. of 7 runs, 10 loops each)\n"
     ]
    }
   ],
   "source": [
    "%%timeit\n",
    "df.pivot_table(values='C', index='A', columns='B', aggfunc='count', fill_value=0)"
   ]
  },
  {
   "cell_type": "code",
   "execution_count": 4,
   "metadata": {},
   "outputs": [
    {
     "name": "stdout",
     "output_type": "stream",
     "text": [
      "72.1 ms ± 1.29 ms per loop (mean ± std. dev. of 7 runs, 10 loops each)\n"
     ]
    }
   ],
   "source": [
    "%%timeit\n",
    "pd.crosstab(index=df.A, columns=df.B)"
   ]
  },
  {
   "cell_type": "markdown",
   "metadata": {},
   "source": [
    "For the first test case the `groupby` DataFrame method followed by calls to `count` and `unstack` is clearly the fastest way to do the calculation. I think the `pivot_table` option makes it more obvious what the result will look like, when spelling out the keyword arguments, but it is much slower. The `crosstab` option saves you some typing at the cost of being slow and in my opinion the hardest to understand just by looking at the code.\n",
    "\n",
    "Next, let's compare data frames of different sizes. Since the `groupby` variant involves multiple function calls, we'll create wrapper functions that can be easily passed to the `timeit` function. In the following loop the runtimes are measured for data frames ranging from 10,000 rows to 10 million."
   ]
  },
  {
   "cell_type": "code",
   "execution_count": 5,
   "metadata": {},
   "outputs": [],
   "source": [
    "import timeit\n",
    "from collections import defaultdict\n",
    "\n",
    "\n",
    "def crosstab(df):\n",
    "    pd.crosstab(index=df.A, columns=df.B)\n",
    "\n",
    "\n",
    "def groupby(df):\n",
    "    df.groupby(['A', 'B'])['C'].count().unstack(fill_value=0)\n",
    "\n",
    "\n",
    "def pivot_table(df):\n",
    "    df.pivot_table(values='C', index='A', columns='B', aggfunc='count', fill_value=0)\n",
    "\n",
    "\n",
    "funcs = [crosstab, groupby, pivot_table]\n",
    "measurements = []\n",
    "repetitions = 5\n",
    "\n",
    "# Use a seed distinct from above to prevent caching\n",
    "np.random.seed(420)\n",
    "\n",
    "for size in np.logspace(start=4, stop=7, num=4):\n",
    "    size = int(size)\n",
    "    data = np.random.randint(1, 100, size=(size, 10))\n",
    "    df = pd.DataFrame(data, columns=cols)\n",
    "    \n",
    "    for func in funcs:\n",
    "        duration = timeit.timeit('func(df)', number=repetitions, globals=globals()) / repetitions\n",
    "        measurements.append({'Function': func.__name__, 'Row count': size, 'duration': duration})"
   ]
  },
  {
   "cell_type": "markdown",
   "metadata": {},
   "source": [
    "Finally, plot the measurements as bar charts to visualize the differences in duration."
   ]
  },
  {
   "cell_type": "code",
   "execution_count": 6,
   "metadata": {},
   "outputs": [
    {
     "data": {
      "image/png": "[encoded data removed]",
      "text/plain": [
       "<Figure size 720x432 with 1 Axes>"
      ]
     },
     "metadata": {
      "needs_background": "light"
     },
     "output_type": "display_data"
    }
   ],
   "source": [
    "fig, ax = plt.subplots(figsize=(10, 6))\n",
    "pd.DataFrame(measurements).groupby(['Row count', 'Function']).duration.mean().unstack().plot(ax=ax, kind='bar')\n",
    "\n",
    "ax.set_xlabel('DataFrame row count')\n",
    "ax.set_ylabel('Duration in seconds', labelpad=25, va='top')\n",
    "\n",
    "fig.suptitle('Runtime Comparison of pandas crosstab, groupby and pivot_table', fontsize=22)\n",
    "fig.text(0.01, -0.15, 'Author: Ramiro Gómez • Source: ramiro.org/notebook/pandas-crosstab-groupby-pivot/', ha='left', va='center', fontsize=14);"
   ]
  },
  {
   "cell_type": "markdown",
   "metadata": {},
   "source": [
    "For smaller data frames the `groupby` variant is clearly the fastest. For larger record counts the runtime differences between `groupby` and `pivot_table` become less pronounced, both of them are significantly faster than `crosstab`. In this particular case, where all three variants produce equivalent results, `groupby` looks like the best choice. Obviously, runtime may not be your main concern and other factors such as data types and missing values could impact the runtime in favor of the other variants. Better measure than guess and you should end up with a sane choice."
   ]
  }
 ],
 "metadata": {
  "kernelspec": {
   "display_name": "Python 3",
   "language": "python",
   "name": "python3"
  },
  "language_info": {
   "codemirror_mode": {
    "name": "ipython",
    "version": 3
   },
   "file_extension": ".py",
   "mimetype": "text/x-python",
   "name": "python",
   "nbconvert_exporter": "python",
   "pygments_lexer": "ipython3",
   "version": "3.7.3"
  }
 },
 "nbformat": 4,
 "nbformat_minor": 4
}
