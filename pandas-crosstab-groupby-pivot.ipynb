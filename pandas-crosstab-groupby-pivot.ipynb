{
 "cells": [
  {
   "cell_type": "markdown",
   "metadata": {},
   "source": [
    "# Performance comparison of pandas crosstab, groupby and pivot_table\n",
    "\n",
    "The pandas library is very powerful and offers several ways to group and summarize data. Typically, I use the `groupby` method but found `pivot_table` to be more readable when grouping across multiple columns with the intention to visualize the results. After running into memory issues with `pivot_table` I decided to compare these two options and the `crosstab` method.\n",
    "\n",
    "In this notebook I'll do a short comparison of the runtime and memory use of `groupby`, `pivot_table` and `crosstab`. Let's first look at a DataFrame consisiting of 10 columns and 100,000 rows of random integers between 1 and 100. The DataFrame will be grouped by the columns `A` and `B` counting the values in column `C`. The three operations result in DataFrames containing the same values."
   ]
  },
  {
   "cell_type": "code",
   "execution_count": 75,
   "metadata": {},
   "outputs": [
    {
     "name": "stdout",
     "output_type": "stream",
     "text": [
      "The memory_profiler extension is already loaded. To reload it, use:\n",
      "  %reload_ext memory_profiler\n"
     ]
    },
    {
     "data": {
      "text/html": [
       "<div>\n",
       "<style scoped>\n",
       "    .dataframe tbody tr th:only-of-type {\n",
       "        vertical-align: middle;\n",
       "    }\n",
       "\n",
       "    .dataframe tbody tr th {\n",
       "        vertical-align: top;\n",
       "    }\n",
       "\n",
       "    .dataframe thead th {\n",
       "        text-align: right;\n",
       "    }\n",
       "</style>\n",
       "<table border=\"1\" class=\"dataframe\">\n",
       "  <thead>\n",
       "    <tr style=\"text-align: right;\">\n",
       "      <th></th>\n",
       "      <th>A</th>\n",
       "      <th>B</th>\n",
       "      <th>C</th>\n",
       "      <th>D</th>\n",
       "      <th>E</th>\n",
       "      <th>F</th>\n",
       "      <th>G</th>\n",
       "      <th>H</th>\n",
       "      <th>I</th>\n",
       "      <th>J</th>\n",
       "    </tr>\n",
       "  </thead>\n",
       "  <tbody>\n",
       "    <tr>\n",
       "      <th>0</th>\n",
       "      <td>52</td>\n",
       "      <td>93</td>\n",
       "      <td>15</td>\n",
       "      <td>72</td>\n",
       "      <td>61</td>\n",
       "      <td>21</td>\n",
       "      <td>83</td>\n",
       "      <td>87</td>\n",
       "      <td>75</td>\n",
       "      <td>75</td>\n",
       "    </tr>\n",
       "    <tr>\n",
       "      <th>1</th>\n",
       "      <td>88</td>\n",
       "      <td>24</td>\n",
       "      <td>3</td>\n",
       "      <td>22</td>\n",
       "      <td>53</td>\n",
       "      <td>2</td>\n",
       "      <td>88</td>\n",
       "      <td>30</td>\n",
       "      <td>38</td>\n",
       "      <td>2</td>\n",
       "    </tr>\n",
       "    <tr>\n",
       "      <th>2</th>\n",
       "      <td>64</td>\n",
       "      <td>60</td>\n",
       "      <td>21</td>\n",
       "      <td>33</td>\n",
       "      <td>76</td>\n",
       "      <td>58</td>\n",
       "      <td>22</td>\n",
       "      <td>89</td>\n",
       "      <td>49</td>\n",
       "      <td>91</td>\n",
       "    </tr>\n",
       "    <tr>\n",
       "      <th>3</th>\n",
       "      <td>59</td>\n",
       "      <td>42</td>\n",
       "      <td>92</td>\n",
       "      <td>60</td>\n",
       "      <td>80</td>\n",
       "      <td>15</td>\n",
       "      <td>62</td>\n",
       "      <td>62</td>\n",
       "      <td>47</td>\n",
       "      <td>62</td>\n",
       "    </tr>\n",
       "    <tr>\n",
       "      <th>4</th>\n",
       "      <td>51</td>\n",
       "      <td>55</td>\n",
       "      <td>64</td>\n",
       "      <td>3</td>\n",
       "      <td>51</td>\n",
       "      <td>7</td>\n",
       "      <td>21</td>\n",
       "      <td>73</td>\n",
       "      <td>39</td>\n",
       "      <td>18</td>\n",
       "    </tr>\n",
       "  </tbody>\n",
       "</table>\n",
       "</div>"
      ],
      "text/plain": [
       "    A   B   C   D   E   F   G   H   I   J\n",
       "0  52  93  15  72  61  21  83  87  75  75\n",
       "1  88  24   3  22  53   2  88  30  38   2\n",
       "2  64  60  21  33  76  58  22  89  49  91\n",
       "3  59  42  92  60  80  15  62  62  47  62\n",
       "4  51  55  64   3  51   7  21  73  39  18"
      ]
     },
     "execution_count": 75,
     "metadata": {},
     "output_type": "execute_result"
    }
   ],
   "source": [
    "%matplotlib inline\n",
    "%load_ext memory_profiler\n",
    "from string import ascii_uppercase\n",
    "\n",
    "import matplotlib.pyplot as plt\n",
    "import numpy as np\n",
    "import pandas as pd\n",
    "\n",
    "plt.style.use('ramiro')\n",
    "cols = list(ascii_uppercase[:10])\n",
    "np.random.seed(42)\n",
    "data = np.random.randint(1, 100, size=(100_000, 10))\n",
    "df = pd.DataFrame(data, columns=cols)\n",
    "df.head()"
   ]
  },
  {
   "cell_type": "code",
   "execution_count": 76,
   "metadata": {},
   "outputs": [
    {
     "name": "stdout",
     "output_type": "stream",
     "text": [
      "6.97 ms ± 68.5 µs per loop (mean ± std. dev. of 7 runs, 100 loops each)\n"
     ]
    }
   ],
   "source": [
    "%%timeit\n",
    "df.groupby(['A', 'B'])['C'].count().unstack(fill_value=0)"
   ]
  },
  {
   "cell_type": "code",
   "execution_count": 77,
   "metadata": {},
   "outputs": [
    {
     "name": "stdout",
     "output_type": "stream",
     "text": [
      "32.9 ms ± 130 µs per loop (mean ± std. dev. of 7 runs, 10 loops each)\n"
     ]
    }
   ],
   "source": [
    "%%timeit\n",
    "df.pivot_table(values='C', index='A', columns='B', aggfunc='count', fill_value=0)"
   ]
  },
  {
   "cell_type": "code",
   "execution_count": 78,
   "metadata": {},
   "outputs": [
    {
     "name": "stdout",
     "output_type": "stream",
     "text": [
      "70.5 ms ± 1.19 ms per loop (mean ± std. dev. of 7 runs, 10 loops each)\n"
     ]
    }
   ],
   "source": [
    "%%timeit\n",
    "pd.crosstab(index=df.A, columns=df.B)"
   ]
  },
  {
   "cell_type": "markdown",
   "metadata": {},
   "source": [
    "For the first test case the `groupby` DataFrame method followed by a call to `unstack` is clearly the fastest way to do the calculation. I think the `pivot_table` option makes it more obvious what the result will look like, when spelling out the keyword arguments, but it is much slower. The `crosstab` option saves you some typing at the cost of being slow and in my opionion the hardest to understand just by looking at the code.\n",
    "\n",
    "Next, let's look at data frames of different sizes and check the memory usage. We create wrapper functions that can easily be passed to the `timeit` and `memory_usage` functions in the following loop, where duration and memory usage is measured for data frames ranging from 10 to 1 million rows."
   ]
  },
  {
   "cell_type": "code",
   "execution_count": 112,
   "metadata": {},
   "outputs": [
    {
     "data": {
      "text/html": [
       "<div>\n",
       "<style scoped>\n",
       "    .dataframe tbody tr th:only-of-type {\n",
       "        vertical-align: middle;\n",
       "    }\n",
       "\n",
       "    .dataframe tbody tr th {\n",
       "        vertical-align: top;\n",
       "    }\n",
       "\n",
       "    .dataframe thead th {\n",
       "        text-align: right;\n",
       "    }\n",
       "</style>\n",
       "<table border=\"1\" class=\"dataframe\">\n",
       "  <thead>\n",
       "    <tr style=\"text-align: right;\">\n",
       "      <th></th>\n",
       "      <th>Function</th>\n",
       "      <th>Row count</th>\n",
       "      <th>duration</th>\n",
       "      <th>memory</th>\n",
       "    </tr>\n",
       "  </thead>\n",
       "  <tbody>\n",
       "    <tr>\n",
       "      <th>0</th>\n",
       "      <td>crosstab</td>\n",
       "      <td>10</td>\n",
       "      <td>0.011494</td>\n",
       "      <td>256.054688</td>\n",
       "    </tr>\n",
       "    <tr>\n",
       "      <th>1</th>\n",
       "      <td>groupby</td>\n",
       "      <td>10</td>\n",
       "      <td>0.002040</td>\n",
       "      <td>256.054688</td>\n",
       "    </tr>\n",
       "    <tr>\n",
       "      <th>2</th>\n",
       "      <td>pivot_table</td>\n",
       "      <td>10</td>\n",
       "      <td>0.009597</td>\n",
       "      <td>256.054688</td>\n",
       "    </tr>\n",
       "    <tr>\n",
       "      <th>3</th>\n",
       "      <td>crosstab</td>\n",
       "      <td>100</td>\n",
       "      <td>0.023391</td>\n",
       "      <td>256.054688</td>\n",
       "    </tr>\n",
       "    <tr>\n",
       "      <th>4</th>\n",
       "      <td>groupby</td>\n",
       "      <td>100</td>\n",
       "      <td>0.001906</td>\n",
       "      <td>256.054688</td>\n",
       "    </tr>\n",
       "    <tr>\n",
       "      <th>5</th>\n",
       "      <td>pivot_table</td>\n",
       "      <td>100</td>\n",
       "      <td>0.021528</td>\n",
       "      <td>256.054688</td>\n",
       "    </tr>\n",
       "  </tbody>\n",
       "</table>\n",
       "</div>"
      ],
      "text/plain": [
       "      Function  Row count  duration      memory\n",
       "0     crosstab         10  0.011494  256.054688\n",
       "1      groupby         10  0.002040  256.054688\n",
       "2  pivot_table         10  0.009597  256.054688\n",
       "3     crosstab        100  0.023391  256.054688\n",
       "4      groupby        100  0.001906  256.054688\n",
       "5  pivot_table        100  0.021528  256.054688"
      ]
     },
     "execution_count": 112,
     "metadata": {},
     "output_type": "execute_result"
    }
   ],
   "source": [
    "import timeit\n",
    "\n",
    "from collections import defaultdict\n",
    "from memory_profiler import memory_usage\n",
    "\n",
    "\n",
    "def crosstab(df):\n",
    "    pd.crosstab(index=df.A, columns=df.B)\n",
    "\n",
    "\n",
    "def groupby(df):\n",
    "    df.groupby(['A', 'B'])['C'].count().unstack(fill_value=0)\n",
    "\n",
    "\n",
    "def pivot_table(df):\n",
    "    df.pivot_table(values='C', index='A', columns='B', aggfunc='count', fill_value=0)\n",
    "\n",
    "\n",
    "funcs = [crosstab, groupby, pivot_table]\n",
    "measurements = []\n",
    "\n",
    "np.random.seed(420) # use a distinct seed as above to prevent caching\n",
    "for size in np.logspace(1, 6, 6):\n",
    "    size = int(size)\n",
    "    repetitions = 10\n",
    "    \n",
    "    data = np.random.randint(1, 100, size=(size, 10))\n",
    "    df = pd.DataFrame(data, columns=cols)\n",
    "    \n",
    "    for func in funcs:\n",
    "        duration = timeit.timeit('func(df)', number=repetitions, globals=globals()) / repetitions\n",
    "        memory = np.mean(memory_usage(proc=(func, (df,))))\n",
    "        measurements.append({'Function': func.__name__, 'Row count': size, 'duration': duration, 'memory': memory})\n",
    "        \n",
    "df_measurements = pd.DataFrame(measurements)\n",
    "df_measurements.head(6)"
   ]
  },
  {
   "cell_type": "markdown",
   "metadata": {},
   "source": [
    "Finally, the results are plotted as bar charts to make the differences in duration visible."
   ]
  },
  {
   "cell_type": "code",
   "execution_count": 111,
   "metadata": {},
   "outputs": [
    {
     "data": {
      "image/png": "[encoded data removed]",
      "text/plain": [
       "<Figure size 1008x432 with 2 Axes>"
      ]
     },
     "metadata": {},
     "output_type": "display_data"
    }
   ],
   "source": [
    "fig, axes = plt.subplots(nrows=1, ncols=2, sharex=True, sharey=False, figsize=(14, 6))\n",
    "\n",
    "ax_dur = axes[0]\n",
    "ax_mem = axes[1]\n",
    "\n",
    "df_dur = df_measurements.groupby(['Row count', 'Function']).duration.mean().unstack()\n",
    "df_mem = df_measurements.groupby(['Row count', 'Function']).memory.mean().unstack()\n",
    "\n",
    "plot_dur = df_dur.plot(ax=ax_dur, kind='bar')\n",
    "plot_mem = df_mem.plot(ax=ax_mem, kind='bar')\n",
    "\n",
    "ax_dur.set_title('Duration in seconds', fontsize=15, va='top')\n",
    "ax_mem.set_title('Memory usage in MiB', fontsize=15, va='top')\n",
    "\n",
    "fig.suptitle('Comparison of pandas crosstab, groupby and pivot_table', fontsize=22)\n",
    "fig.text(0.05, -0.16, 'Author: Ramiro Gómez • Source: ramiro.org/notebook/pandas-crosstab-groupby-pivot/', ha='left', va='center', fontsize=14);"
   ]
  },
  {
   "cell_type": "markdown",
   "metadata": {},
   "source": [
    "Up until 100,000 rows `groupby` is a lot faster than the two other options. With 1 million rows `groupby` and `pivot_table` take a similar amount of time. Memory usage is the same for all 3 functions until 100,000 rows. For 1 million records `pivot_table` consumes a little more memory."
   ]
  },
  {
   "cell_type": "code",
   "execution_count": null,
   "metadata": {},
   "outputs": [],
   "source": []
  }
 ],
 "metadata": {
  "kernelspec": {
   "display_name": "Python 3",
   "language": "python",
   "name": "python3"
  },
  "language_info": {
   "codemirror_mode": {
    "name": "ipython",
    "version": 3
   },
   "file_extension": ".py",
   "mimetype": "text/x-python",
   "name": "python",
   "nbconvert_exporter": "python",
   "pygments_lexer": "ipython3",
   "version": "3.7.3"
  }
 },
 "nbformat": 4,
 "nbformat_minor": 4
}
